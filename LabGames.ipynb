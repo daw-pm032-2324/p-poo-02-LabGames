{
 "cells": [
  {
   "cell_type": "markdown",
   "id": "d18d7501-4851-4aa5-8f71-99ebc38a3148",
   "metadata": {},
   "source": [
    "# Lab: Jocs (games)"
   ]
  },
  {
   "cell_type": "markdown",
   "id": "0f0f50a8-2dad-4988-b6d7-8e07a04de152",
   "metadata": {},
   "source": [
    "> **Instruccions**: després de finalitzar cada fase i abans de començar la següent, has de fer un ``git commit``. Només cal fer el ``git push`` en acabar."
   ]
  },
  {
   "cell_type": "markdown",
   "id": "77fd0212-bb61-4ab6-9f02-570c1fedf19f",
   "metadata": {},
   "source": [
    "Sabem que hi ha molts tipus de jocs: des de jocs a l'aire lliure (com el _fet i amagar_ - _run and hide_ en anglès) passant per jocs esportius (bàsquet o escacs per exemple) o per jocs de taula (monopoli, dames ...) fins a jocs d'ordinador (de tipus arcade, primera persona, de carreres, d'estratègia, etc.)"
   ]
  },
  {
   "cell_type": "markdown",
   "id": "888d2c91-49a1-46de-9281-5f6a49405683",
   "metadata": {},
   "source": [
    "***\n",
    "Crea un nou projecte Java a Eclipse / IntelliJ / Netbeans / VSCode, anomenat **LabGames**. Aquest projecte et serveix per a fer una petita aplicació Java que compleixi els següents requeriments:"
   ]
  },
  {
   "cell_type": "markdown",
   "id": "8008fa90-33a5-4048-97bb-0ef9399df8e9",
   "metadata": {},
   "source": [
    "## Fase 1\n",
    "\n",
    "- Crea una classe amb el nom App, que tindrà el punt d'entrada a l'aplicació, és a dir, el mètode main().\n",
    "- Crea una classe que representi un joc a l'aire lliure, que es pot anomenar ``OutdoorGame``.\n",
    "- Crea una classe que representi un joc de taula (``BoardGame``).\n",
    "- Crea una classe que representi un joc esportiu (``SportsGame``).\n",
    "- Crea una classe que representi un d'ordinador (``ComputerGame``).\n",
    "- Crea una classe que representi un jugador (``Player``).\n",
    "\n",
    "Un cop creades aquestes classes, pensa _com a mínim_ 3 atributs i 3 mètodes per a cadascuna (els mètodes no poden ser els setters, ni els getters ni els constructors). Per exemple, per a la classe ``OutdoorGame`` podríem crear un mètode anomenat ```signup(Player player)``` (el jugador s'apunta al joc) i un atribut anomenat ```gameName``` (de tipus String) que representa el nom del joc (per exemple, \"_Hide and Run_\")."
   ]
  },
  {
   "cell_type": "markdown",
   "id": "419cc1e6-6906-4edb-ad62-258f2e895d29",
   "metadata": {},
   "source": [
    "Des del main() instancia un objecte de cada classe i fes que executi algun dels mètodes. Per exemple:\n",
    "\n",
    "```java\n",
    "Outdoor game = new OutdoorGame();\n",
    "game.setName(\"Hide and Run\");\n",
    "Player josep = new Player(\"Josep\");\n",
    "game.signup(josep);\n",
    "```\n",
    "\n",
    "Es veurà per pantalla:\n",
    "\n",
    "```\n",
    "Player Josep has signup for Hide and Run.\n",
    "```"
   ]
  },
  {
   "cell_type": "markdown",
   "id": "a1cf985a-3ff7-4263-ae8c-0c6459185792",
   "metadata": {},
   "source": [
    "_Nota_: per a que es vegi que cada mètode és cridat o executat, posa-hi dins del mètode un ```System.out.printf()``` que informi per pantalla que el mètode ha estat cridat. Per exemple:\n",
    "\n",
    "```java\n",
    "public void signup(Player player){\n",
    "    System.out.printf(\"Player %s has signup for %s. %n\", this.player.getName(), this.gameName);\n",
    "}\n",
    "```"
   ]
  },
  {
   "cell_type": "markdown",
   "id": "bdaf25d2-3fcc-4538-b028-2c1337451a05",
   "metadata": {},
   "source": [
    "## Fase 2\n",
    "\n",
    "- Pensa quins dels mètodes i atributs, que has posat a cada classe, són atributs o mètodes que **són comuns a totes les classes** (comuns a **tots** els jocs). **GENERALITZA** i crea una superclasse anomenada ```Game```. Mou els mètodes i atributs comuns a la superclasse. **Pots crear mètodes i atributs nous que siguin comuns i posar-los a la superclasse**.\n",
    "\n",
    "- Crea una classe ```Team```, amb els atributs i mètodes que consideris **necessaris**. Aquesta classe haurà de tenir un atribut de tipus ``Player[]`` (array de Player) de mida a establir en el seu constructor (la mida de l'array de Player se li passarà com a paràmetre en el constructor quan se'n creï un objecte amb ``new``).\n",
    "\n",
    "- Al mètode main(), els objectes que has creat a la fase 1, i abans de cridar qualsevol mètode, els has de posar en un array de ``Game``. Recorre l'array amb un bucle de tipus _foreach_ i crida un mètode (el que vulguis). S'ha de veure per pantalla el mètode cridat i el tipus de joc que el crida (si ha estat un joc a l'aire lliure, un joc de taula, etc.).\n",
    "\n",
    "- Refactoritza la teva aplicació per tenir en compte el següent: tots els jocs poden ser jugats per diversos jugadors, agrupats en equips. Per tant cada joc ha de contemplar la possibilitat que participin tants equips com sigui necessari (un, dos o més equips). Quan un joc és individual, l'equip o equips simplement estaran formats per un únic jugador.\n",
    "\n",
    "Per exemple, un canvi que caldria fer en aquesta refactorització seria el mètode ``signup(Player player)`` que assignarà el _player_ a un equip _per defecte_ (que sempre existeix si no se'n apunta cap de nou) i crearàs almenys dues sobrecàrregues:\n",
    "\n",
    "- ``signup(Team team)``, tot un equip **nou** s'apunta i s'afegeix a l'array o llista de _teams_ que tindrà el joc;\n",
    "- ``signup(Player player, Team team)``, on un jugador s'apunta però no a l'equip _per defecte_ sinó a l'equip ``team`` que **ha d'existir prèviament** (ja s'ha inscrit prèviament)."
   ]
  },
  {
   "cell_type": "markdown",
   "id": "b82ecee2-d480-402e-abe5-0521c4e4a91d",
   "metadata": {},
   "source": [
    "## Fase 3\n",
    "\n",
    "- Crea tres subclasses de ``ComputerGame``:\n",
    "\n",
    "   * ``ArcadeGame``: representa jocs d'ordinador de tipus arcade.\n",
    "   * ``StrategyGame``: representa jocs d'estratègia.\n",
    "   * ``ShooterGame``: jocs en primera persona de disparar.\n",
    "\n",
    "- Crea una interfície anomenada ```IVirtual``` que tindrà dos mètodes:\n",
    "    * Un mètode abstracte anomenat ```online()```.\n",
    "    * Un mètode _default_ anomenat ```levelUp()``` (pujar de nivell dins del joc), amb la següent implementació:\n",
    "    \n",
    "    ```java\n",
    "       Date date = new Date();\n",
    "       System.out.printf(\"Level up achieved in %1$tA, %1$td %1$tB %1$tY at %tT%n\", date);\n",
    "    ```\n",
    "- Fes que totes els jocs d'ordinador implementin la interfície ```IVirtual```. Hauràs de decidir si cadascun dels jocs es pot jugar online o no, i si hi ha algun requeriment per a pujar de nivell.\n",
    "\n",
    "- Crea un altre array al mètode main(), de tipus ```IVirtual```. Omple'l com a mínim amb un joc arcade, un joc d'estratègia i un joc de primera persona. Fes un bucle que recorri l'array i executi els dos mètodes de la interfície.\n"
   ]
  },
  {
   "cell_type": "markdown",
   "id": "a6258cdf-81b4-41a9-ac0a-5e3ebef40107",
   "metadata": {},
   "source": [
    "> No oblidis de fer un git commit en finalitzar cada fase, amb el missatge \"Fase X acabada\" on X és 1, 2 o 3 segons el cas. En acabar, finalment recorda de fer el git push."
   ]
  }
 ],
 "metadata": {
  "kernelspec": {
   "display_name": "Java",
   "language": "java",
   "name": "java"
  },
  "language_info": {
   "codemirror_mode": "java",
   "file_extension": ".jshell",
   "mimetype": "text/x-java-source",
   "name": "Java",
   "pygments_lexer": "java",
   "version": "17.0.6+10-LTS"
  }
 },
 "nbformat": 4,
 "nbformat_minor": 5
}
